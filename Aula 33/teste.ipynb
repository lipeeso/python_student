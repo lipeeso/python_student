{
 "cells": [
  {
   "cell_type": "code",
   "execution_count": 45,
   "id": "fcf15353",
   "metadata": {},
   "outputs": [
    {
     "data": {
      "text/plain": [
       "'Funções def em Python - Return Part 2'"
      ]
     },
     "execution_count": 45,
     "metadata": {},
     "output_type": "execute_result"
    }
   ],
   "source": [
    "'''Funções def em Python - Return Part 2'''"
   ]
  },
  {
   "cell_type": "code",
   "execution_count": 46,
   "id": "3bde2d6b",
   "metadata": {},
   "outputs": [
    {
     "name": "stdout",
     "output_type": "stream",
     "text": [
      "Olá\n",
      "None\n",
      "Nenhum valor\n"
     ]
    }
   ],
   "source": [
    "'''Uma função sempre vai ter um retorno e nesse caso quando não tem um return explicito ele vai retornar None'''\n",
    "'''OBS: None representa um não valor'''\n",
    "def funcao(var):\n",
    "    print(var)\n",
    "    \n",
    "variavel = funcao('Olá')\n",
    "print(variavel)\n",
    "\n",
    "if variavel:                #* Como esse valor está retornando None da função ele é False e vai cair no else\n",
    "    print(variavel)\n",
    "else:\n",
    "    print('Nenhum valor')\n"
   ]
  },
  {
   "cell_type": "code",
   "execution_count": 3,
   "id": "095f27df",
   "metadata": {},
   "outputs": [
    {
     "name": "stdout",
     "output_type": "stream",
     "text": [
      "None\n",
      "False\n"
     ]
    }
   ],
   "source": [
    "\n",
    "#! OBS: Sempre que função encontrar a palavra return ela não executa o resto do código abaixo\n",
    "def funcao_return(var):\n",
    "    return \n",
    "    print('Aqui não vai executar')\n",
    "\n",
    "var = funcao_return('Teste')\n",
    "print(var)\n",
    "\n",
    "if var:\n",
    "    print('True')\n",
    "else:\n",
    "    print('False')"
   ]
  },
  {
   "cell_type": "code",
   "execution_count": 47,
   "id": "fa187785",
   "metadata": {},
   "outputs": [
    {
     "name": "stdout",
     "output_type": "stream",
     "text": [
      "Teste\n",
      "Teste\n"
     ]
    }
   ],
   "source": [
    " #! Nesse exemplo vemos que a função tem um return então será True\n",
    "\n",
    "\n",
    "def funcao_1(var):\n",
    "    return var \n",
    "\n",
    "variavel1 = funcao_1('Teste')\n",
    "print(variavel1)\n",
    "\n",
    "if variavel1:\n",
    "    print(variavel1) \n",
    "else:\n",
    "    print('Nenhum valor')"
   ]
  },
  {
   "cell_type": "code",
   "execution_count": 49,
   "id": "857c90ae",
   "metadata": {},
   "outputs": [
    {
     "name": "stdout",
     "output_type": "stream",
     "text": [
      "True <class 'bool'>\n"
     ]
    }
   ],
   "source": [
    "def dump():\n",
    "    return True\n",
    "\n",
    "var1 = dump()\n",
    "print(var1, type(var1))"
   ]
  },
  {
   "cell_type": "code",
   "execution_count": 4,
   "id": "85705680",
   "metadata": {},
   "outputs": [
    {
     "name": "stdout",
     "output_type": "stream",
     "text": [
      "Olá\n",
      "<function f at 0x000001AE803A2520>\n",
      "1848987231520 1848987232160\n",
      "Var2 é igual a f\n"
     ]
    }
   ],
   "source": [
    "'''Uma função dentro de outra função'''\n",
    "#!É o mesmo objeto na memória do computador\n",
    "def f(var):\n",
    "    print(var)\n",
    "\n",
    "def teste():\n",
    "    return f\n",
    "\n",
    "var2 = teste()\n",
    "var2('Olá') #! Já que é o mesmo objeto eu posso chamar a variável passando o parâmetro da função f\n",
    "print(var2)\n",
    "print(id(f), id(teste)) #A função id mostra a identidade do objeto\n",
    "\n",
    "if var2 == f:\n",
    "    print('Var2 é igual a f')\n",
    "else:\n",
    "    print('Não é igual')"
   ]
  },
  {
   "cell_type": "code",
   "execution_count": null,
   "id": "d8c023e0",
   "metadata": {},
   "outputs": [
    {
     "name": "stdout",
     "output_type": "stream",
     "text": [
      "('Felipe', 'João')\n"
     ]
    }
   ],
   "source": [
    "'''\n",
    "Retornando tuplas na função\n",
    "'''\n",
    "def tuplas ():\n",
    "    return ('Felipe', 'João')\n",
    "\n",
    "var3 = tuplas()\n",
    "print(var3, type(var3))"
   ]
  },
  {
   "cell_type": "code",
   "execution_count": null,
   "id": "173359dd",
   "metadata": {},
   "outputs": [],
   "source": []
  }
 ],
 "metadata": {
  "kernelspec": {
   "display_name": "Python 3",
   "language": "python",
   "name": "python3"
  },
  "language_info": {
   "codemirror_mode": {
    "name": "ipython",
    "version": 3
   },
   "file_extension": ".py",
   "mimetype": "text/x-python",
   "name": "python",
   "nbconvert_exporter": "python",
   "pygments_lexer": "ipython3",
   "version": "3.12.5"
  }
 },
 "nbformat": 4,
 "nbformat_minor": 5
}
