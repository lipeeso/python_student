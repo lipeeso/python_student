{
 "cells": [
  {
   "cell_type": "code",
   "execution_count": 3,
   "id": "55074c0e",
   "metadata": {},
   "outputs": [
    {
     "name": "stdout",
     "output_type": "stream",
     "text": [
      "('Felipe',)\n",
      "None\n"
     ]
    }
   ],
   "source": [
    "'''Passando um valor de uma função para outra função'''\n",
    "\n",
    "def func(*args):\n",
    "    args = 'Felipe'\n",
    "    return args\n",
    "\n",
    "def func2(*args):\n",
    "    print(args)\n",
    "\n",
    "var = func()\n",
    "\n",
    "print(func2(var))"
   ]
  },
  {
   "cell_type": "code",
   "execution_count": 4,
   "id": "b4ecb2a4",
   "metadata": {},
   "outputs": [
    {
     "name": "stdout",
     "output_type": "stream",
     "text": [
      "('API',)\n",
      "None\n"
     ]
    }
   ],
   "source": [
    "def get(*args):\n",
    "    args = 'API'\n",
    "    return args\n",
    "\n",
    "def get2(*args):\n",
    "    print(args)\n",
    "\n",
    "variavel = get()\n",
    "\n",
    "print(get2(variavel))"
   ]
  }
 ],
 "metadata": {
  "kernelspec": {
   "display_name": "Python 3",
   "language": "python",
   "name": "python3"
  },
  "language_info": {
   "codemirror_mode": {
    "name": "ipython",
    "version": 3
   },
   "file_extension": ".py",
   "mimetype": "text/x-python",
   "name": "python",
   "nbconvert_exporter": "python",
   "pygments_lexer": "ipython3",
   "version": "3.12.5"
  }
 },
 "nbformat": 4,
 "nbformat_minor": 5
}
