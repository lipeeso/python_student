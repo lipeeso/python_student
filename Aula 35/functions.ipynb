{
 "cells": [
  {
   "cell_type": "code",
   "execution_count": null,
   "id": "2ec2721f",
   "metadata": {},
   "outputs": [],
   "source": [
    "'''\n",
    "#! Funções (def) em Python - *args e **kwargs - parte 3  \n",
    "'''"
   ]
  },
  {
   "cell_type": "code",
   "execution_count": null,
   "id": "b0d61dd9",
   "metadata": {},
   "outputs": [
    {
     "ename": "SyntaxError",
     "evalue": "parameter without a default follows parameter with a default (698621475.py, line 4)",
     "output_type": "error",
     "traceback": [
      "  \u001b[36mCell\u001b[39m\u001b[36m \u001b[39m\u001b[32mIn[8]\u001b[39m\u001b[32m, line 4\u001b[39m\n\u001b[31m    \u001b[39m\u001b[31mdef func(a1, a2, a3, name=None, a4):\u001b[39m\n                                    ^\n\u001b[31mSyntaxError\u001b[39m\u001b[31m:\u001b[39m parameter without a default follows parameter with a default\n"
     ]
    }
   ],
   "source": [
    "'''\n",
    "A partir de um argumento padrão todos os argumentos tem que ser padronizado\n",
    "'''\n",
    "def func(a1, a2, a3, name=None, a4): \n",
    "    print(a1,a2,a3,name,a4)\n",
    "\n",
    "func(1,2,3,name='Felipe') #OBS: A partir do momentos que eu chamei a minha função com o argumento nomeado eu já não posso mais chamar sem nomear"
   ]
  },
  {
   "cell_type": "code",
   "execution_count": 12,
   "id": "d690dd30",
   "metadata": {},
   "outputs": [
    {
     "name": "stdout",
     "output_type": "stream",
     "text": [
      "1 2 3 Felipe 20\n",
      "('Felipe', 20)\n"
     ]
    }
   ],
   "source": [
    "def function(a1, a2, a3, name=None, age=None):\n",
    "    print(a1, a2, a3, name, age)\n",
    "\n",
    "    return name, age\n",
    "\n",
    "print(function(1,2,3,name='Felipe', age=20))"
   ]
  },
  {
   "cell_type": "code",
   "execution_count": 1,
   "id": "e62b861c",
   "metadata": {},
   "outputs": [
    {
     "name": "stdout",
     "output_type": "stream",
     "text": [
      "10 20 3 4 5\n",
      "10 20\n"
     ]
    }
   ],
   "source": [
    "'''\n",
    "OBS: É possível acessar os indices dos argumentos no return\n",
    "'''\n",
    "\n",
    "def contagem(a1=1, a2=2, a3=3, a4=4, a5=5):\n",
    "    print(a1, a2, a3, a4, a5)\n",
    "    return a1, a2\n",
    "\n",
    "var = contagem(10, 20)\n",
    "\n",
    "print(var[0], var[1])"
   ]
  },
  {
   "cell_type": "code",
   "execution_count": null,
   "id": "dec7b93d",
   "metadata": {},
   "outputs": [
    {
     "name": "stdout",
     "output_type": "stream",
     "text": [
      "('Olá',)\n",
      "{'name': 'Felipe'}\n"
     ]
    }
   ],
   "source": [
    "'''*args é uma tupla e **kwargs é um dict'''\n",
    "def func(*args, **kwargs):\n",
    "    print(args)\n",
    "    print(kwargs)\n",
    "\n",
    "func('Olá', name='Felipe')\n"
   ]
  },
  {
   "cell_type": "code",
   "execution_count": 11,
   "id": "df894079",
   "metadata": {},
   "outputs": [
    {
     "name": "stdout",
     "output_type": "stream",
     "text": [
      "Felipe\n",
      "None\n"
     ]
    }
   ],
   "source": [
    "'''Acessando **kwargs'''\n",
    "\n",
    "def func_kwargs(**kwargs):\n",
    "    name = kwargs.get('name') #Jeito certo de acessar o valor da chave\n",
    "    #name = kwargs['age'] Se acessar dessa forma e não encontrar o valor o script quebra\n",
    "    print(name)\n",
    "\n",
    "print(func_kwargs(name='Felipe'))"
   ]
  },
  {
   "cell_type": "code",
   "execution_count": null,
   "id": "f1c076d1",
   "metadata": {},
   "outputs": [
    {
     "name": "stdout",
     "output_type": "stream",
     "text": [
      "(1, 2, 3, 4, 5, 1)\n",
      "None\n"
     ]
    }
   ],
   "source": [
    "'''Acessando *args'''\n",
    "'''OBS: SEMPRE DESEMPACOTAR QUANDO FOR PASSAR UMA LISTA PARA NÃO TER UMA LISTA DENTRO DE TUPLAS '''\n",
    "def funct_args(*args):\n",
    "    print(args)\n",
    "\n",
    "\n",
    "list = [1,2,3,4,5]\n",
    "\n",
    "print(funct_args(*list,1))"
   ]
  },
  {
   "cell_type": "code",
   "execution_count": null,
   "id": "9724a285",
   "metadata": {},
   "outputs": [
    {
     "name": "stdout",
     "output_type": "stream",
     "text": [
      "('Olá',)\n",
      "23\n",
      "Felipe\n",
      "None\n"
     ]
    }
   ],
   "source": [
    "'''Usando *args e **kwargs'''\n",
    "\n",
    "def funct_args_and_kwargs(*args, **kwargs):\n",
    "    print(args)\n",
    "    age = kwargs.get('age')\n",
    "    name = kwargs.get('name')\n",
    "\n",
    "    '''Verifica se tem a chave age'''\n",
    "    if age is not None: \n",
    "        print(age)\n",
    "    else:\n",
    "        print('Age not found')\n",
    "\n",
    "    if name is not None:\n",
    "        print(name)\n",
    "    else:\n",
    "        print('Name not found')\n",
    "\n",
    "\n",
    "print(funct_args_and_kwargs('Olá', name='Felipe', age=23))"
   ]
  }
 ],
 "metadata": {
  "kernelspec": {
   "display_name": "Python 3",
   "language": "python",
   "name": "python3"
  },
  "language_info": {
   "codemirror_mode": {
    "name": "ipython",
    "version": 3
   },
   "file_extension": ".py",
   "mimetype": "text/x-python",
   "name": "python",
   "nbconvert_exporter": "python",
   "pygments_lexer": "ipython3",
   "version": "3.12.5"
  }
 },
 "nbformat": 4,
 "nbformat_minor": 5
}
