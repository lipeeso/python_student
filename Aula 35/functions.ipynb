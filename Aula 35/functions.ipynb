{
 "cells": [
  {
   "cell_type": "code",
   "execution_count": null,
   "id": "2ec2721f",
   "metadata": {},
   "outputs": [],
   "source": [
    "'''\n",
    "#! Funções (def) em Python - *args e **kwargs - parte 3  \n",
    "'''"
   ]
  },
  {
   "cell_type": "code",
   "execution_count": null,
   "id": "b0d61dd9",
   "metadata": {},
   "outputs": [
    {
     "ename": "SyntaxError",
     "evalue": "parameter without a default follows parameter with a default (698621475.py, line 4)",
     "output_type": "error",
     "traceback": [
      "  \u001b[36mCell\u001b[39m\u001b[36m \u001b[39m\u001b[32mIn[8]\u001b[39m\u001b[32m, line 4\u001b[39m\n\u001b[31m    \u001b[39m\u001b[31mdef func(a1, a2, a3, name=None, a4):\u001b[39m\n                                    ^\n\u001b[31mSyntaxError\u001b[39m\u001b[31m:\u001b[39m parameter without a default follows parameter with a default\n"
     ]
    }
   ],
   "source": [
    "'''\n",
    "A partir de um argumento padrão todos os parâmetros tem que ser padronizado\n",
    "'''\n",
    "def func(a1, a2, a3, name=None, a4): \n",
    "    print(a1,a2,a3,name,a4)\n",
    "\n",
    "func(1,2,3,name='Felipe') #OBS: A partir do momentos que eu chamei a minha função com o argumento nomeado eu já não posso mais chamar sem nomear"
   ]
  },
  {
   "cell_type": "code",
   "execution_count": null,
   "id": "e62b861c",
   "metadata": {},
   "outputs": [
    {
     "name": "stdout",
     "output_type": "stream",
     "text": [
      "10 20 3 4 5\n",
      "10 20\n"
     ]
    }
   ],
   "source": [
    "'''\n",
    "OBS: É possível acessar os indices dos argumentos no return\n",
    "'''\n",
    "\n",
    "def contagem(a1=1, a2=2, a3=3, a4=4, a5=5):\n",
    "    print(a1, a2, a3, a4, a5)\n",
    "    return a1, a2\n",
    "\n",
    "var = contagem(10, 20)\n",
    "\n",
    "print(var[0], var[1])"
   ]
  }
 ],
 "metadata": {
  "kernelspec": {
   "display_name": "Python 3",
   "language": "python",
   "name": "python3"
  },
  "language_info": {
   "codemirror_mode": {
    "name": "ipython",
    "version": 3
   },
   "file_extension": ".py",
   "mimetype": "text/x-python",
   "name": "python",
   "nbconvert_exporter": "python",
   "pygments_lexer": "ipython3",
   "version": "3.12.5"
  }
 },
 "nbformat": 4,
 "nbformat_minor": 5
}
