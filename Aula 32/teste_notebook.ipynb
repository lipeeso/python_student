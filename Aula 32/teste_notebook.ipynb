{
 "cells": [
  {
   "cell_type": "code",
   "execution_count": 19,
   "id": "ec1b073a",
   "metadata": {},
   "outputs": [
    {
     "name": "stdout",
     "output_type": "stream",
     "text": [
      "Olá\n"
     ]
    }
   ],
   "source": [
    "'''Toda função é composta por parâmetro que é como se fosse uma variável'''\n",
    "def menssage(msg):\n",
    "    print(msg)\n",
    "\n",
    "menssage('Olá')"
   ]
  },
  {
   "cell_type": "code",
   "execution_count": 20,
   "id": "2ac3812a",
   "metadata": {},
   "outputs": [
    {
     "name": "stdout",
     "output_type": "stream",
     "text": [
      "Olá Felipe\n"
     ]
    }
   ],
   "source": [
    "'''Toda função tem como padronizar os parâmentro com valores'''\n",
    "def menssage(msg='Olá', name='Felipe'):\n",
    "    print(msg, name)\n",
    "\n",
    "menssage()"
   ]
  },
  {
   "cell_type": "code",
   "execution_count": null,
   "id": "8c1ae080",
   "metadata": {},
   "outputs": [],
   "source": [
    "'''Se uma função não tiver valores padrão dentro dos parâmentros pode ocasionar em erro'''\n",
    "def menssage(msg, name):\n",
    "    print(msg, name)\n",
    "\n",
    "menssage()    "
   ]
  }
 ],
 "metadata": {
  "kernelspec": {
   "display_name": "Python 3",
   "language": "python",
   "name": "python3"
  },
  "language_info": {
   "codemirror_mode": {
    "name": "ipython",
    "version": 3
   },
   "file_extension": ".py",
   "mimetype": "text/x-python",
   "name": "python",
   "nbconvert_exporter": "python",
   "pygments_lexer": "ipython3",
   "version": "3.11.5"
  }
 },
 "nbformat": 4,
 "nbformat_minor": 5
}
