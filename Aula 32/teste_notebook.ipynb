{
 "cells": [
  {
   "cell_type": "code",
   "execution_count": 19,
   "id": "ec1b073a",
   "metadata": {},
   "outputs": [
    {
     "name": "stdout",
     "output_type": "stream",
     "text": [
      "Olá\n"
     ]
    }
   ],
   "source": [
    "'''Toda função é composta por parâmetro que é como se fosse uma variável'''\n",
    "def menssage(msg):\n",
    "    print(msg)\n",
    "\n",
    "menssage('Olá')"
   ]
  },
  {
   "cell_type": "code",
   "execution_count": 20,
   "id": "2ac3812a",
   "metadata": {},
   "outputs": [
    {
     "name": "stdout",
     "output_type": "stream",
     "text": [
      "Olá Felipe\n"
     ]
    }
   ],
   "source": [
    "'''Toda função tem como padronizar os parâmentro com valores'''\n",
    "def menssage(msg='Olá', name='Felipe'):\n",
    "    print(msg, name)\n",
    "\n",
    "menssage()"
   ]
  },
  {
   "cell_type": "code",
   "execution_count": 22,
   "id": "8c1ae080",
   "metadata": {},
   "outputs": [
    {
     "ename": "TypeError",
     "evalue": "menssage() missing 2 required positional arguments: 'msg' and 'name'",
     "output_type": "error",
     "traceback": [
      "\u001b[31m---------------------------------------------------------------------------\u001b[39m",
      "\u001b[31mTypeError\u001b[39m                                 Traceback (most recent call last)",
      "\u001b[36mCell\u001b[39m\u001b[36m \u001b[39m\u001b[32mIn[22]\u001b[39m\u001b[32m, line 6\u001b[39m\n\u001b[32m      3\u001b[39m \u001b[38;5;28;01mdef\u001b[39;00m\u001b[38;5;250m \u001b[39m\u001b[34mmenssage\u001b[39m(msg, name):\n\u001b[32m      4\u001b[39m     \u001b[38;5;28mprint\u001b[39m(msg, name)\n\u001b[32m----> \u001b[39m\u001b[32m6\u001b[39m \u001b[43mmenssage\u001b[49m\u001b[43m(\u001b[49m\u001b[43m)\u001b[49m    \n",
      "\u001b[31mTypeError\u001b[39m: menssage() missing 2 required positional arguments: 'msg' and 'name'"
     ]
    }
   ],
   "source": [
    "'''Se chamar uma função vazia e não tiver valores padrão dentro dos parâmentros pode ocasionar em erro'''\n",
    "'''Erro: menssage() missing 2 required positional arguments: 'msg' and 'name' '''\n",
    "def menssage(msg, name):\n",
    "    print(msg, name)\n",
    "\n",
    "menssage()    "
   ]
  }
 ],
 "metadata": {
  "kernelspec": {
   "display_name": "Python 3",
   "language": "python",
   "name": "python3"
  },
  "language_info": {
   "codemirror_mode": {
    "name": "ipython",
    "version": 3
   },
   "file_extension": ".py",
   "mimetype": "text/x-python",
   "name": "python",
   "nbconvert_exporter": "python",
   "pygments_lexer": "ipython3",
   "version": "3.11.5"
  }
 },
 "nbformat": 4,
 "nbformat_minor": 5
}
