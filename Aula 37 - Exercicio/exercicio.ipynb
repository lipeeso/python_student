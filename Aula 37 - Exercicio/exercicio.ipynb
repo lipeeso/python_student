{
 "cells": [
  {
   "cell_type": "code",
   "execution_count": null,
   "id": "f82cb01b",
   "metadata": {},
   "outputs": [
    {
     "name": "stdout",
     "output_type": "stream",
     "text": [
      "Olá, mundo!\n"
     ]
    }
   ],
   "source": [
    "''' 1- Crie uma função1 que recebe a função2 como parâmetro e retorne o valor da função2 executada.\n",
    "'''\n",
    "\n",
    "def ola_mundo():\n",
    "    return 'Olá, mundo!'\n",
    "\n",
    "def mestre(funcao): #Aqui só vai passar o nome da função \n",
    "    return funcao()\n",
    "\n",
    "executando = mestre(ola_mundo)\n",
    "print(executando)  # Saída: Olá, mundo!"
   ]
  },
  {
   "cell_type": "code",
   "execution_count": null,
   "id": "5e6a607d",
   "metadata": {},
   "outputs": [
    {
     "name": "stdout",
     "output_type": "stream",
     "text": [
      "Oi Felipe\n",
      "Felipe, Bom dia!!\n"
     ]
    }
   ],
   "source": [
    "'''\n",
    "2 - Crie uma função1 que recebe uma função2 como parâmetro e retorne o valor da função2 executada. Faça a função1 executar duas funções que recebam um número diferente de argumentos.\n",
    "'''\n",
    "'''\n",
    "Aqui to passando o nome da função como parâmetro e a função que vai ser executada vai receber *args e **kwargs como argumentos\n",
    "'''\n",
    "def mestre(funcao, *args, **kwargs): \n",
    "    return funcao(*args, **kwargs)\n",
    " \n",
    "def fala_oi(nome):\n",
    "    return f'Oi{nome}'\n",
    "\n",
    "def saudacao(nome, saudacao):\n",
    "    return f'{saudacao}, {nome}!'\n",
    "\n",
    "executando = mestre(fala_oi, ' Felipe')\n",
    "print(executando)  # Saída: Oi Felipe\n",
    "executando2 = mestre(saudacao,'Felipe', saudacao='Bom dia')\n",
    "print(executando2)  # Saída: Bom dia, Felipe!\n",
    "\n"
   ]
  }
 ],
 "metadata": {
  "kernelspec": {
   "display_name": "Python 3",
   "language": "python",
   "name": "python3"
  },
  "language_info": {
   "codemirror_mode": {
    "name": "ipython",
    "version": 3
   },
   "file_extension": ".py",
   "mimetype": "text/x-python",
   "name": "python",
   "nbconvert_exporter": "python",
   "pygments_lexer": "ipython3",
   "version": "3.12.5"
  }
 },
 "nbformat": 4,
 "nbformat_minor": 5
}
