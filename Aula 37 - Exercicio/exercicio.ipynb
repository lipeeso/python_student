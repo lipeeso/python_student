{
 "cells": [
  {
   "cell_type": "code",
   "execution_count": 1,
   "id": "f82cb01b",
   "metadata": {},
   "outputs": [
    {
     "data": {
      "text/plain": [
       "'Olá, Felipe'"
      ]
     },
     "execution_count": 1,
     "metadata": {},
     "output_type": "execute_result"
    }
   ],
   "source": [
    "''' 1- Crie uma função1 que recebe a função2 como parâmetro e retorne o valor da função2 executada.\n",
    "'''\n",
    "\n",
    "def funcao1(name):\n",
    "    return f'Olá, {name}'\n",
    "\n",
    "\n",
    "def funcao2(name):\n",
    "    return name\n",
    "\n",
    "name = funcao2('Felipe')\n",
    "\n",
    "funcao1(name)"
   ]
  },
  {
   "cell_type": "code",
   "execution_count": null,
   "id": "5e6a607d",
   "metadata": {},
   "outputs": [
    {
     "data": {
      "text/plain": [
       "('Olá, Seja Bem-vindo! Felipe', 'tudo bem?Felipe')"
      ]
     },
     "execution_count": 7,
     "metadata": {},
     "output_type": "execute_result"
    }
   ],
   "source": [
    "'''\n",
    "2 - Crie uma função1 que recebe uma função2 como parâmetro e retorne o valor da função2 executada. Faça a função1 executar duas funções que recebam um número diferente de argumentos.\n",
    "'''\n",
    "def main():\n",
    "\n",
    "    return saudacao('Felipe'), name('Felipe')\n",
    "\n",
    "\n",
    "def saudacao(name):\n",
    "    return f'Olá, Seja Bem-vindo! {name}'\n",
    "\n",
    "def name(name):\n",
    "    return f'tudo bem? {name}'\n",
    "\n",
    "\n",
    "main()\n"
   ]
  }
 ],
 "metadata": {
  "kernelspec": {
   "display_name": "Python 3",
   "language": "python",
   "name": "python3"
  },
  "language_info": {
   "codemirror_mode": {
    "name": "ipython",
    "version": 3
   },
   "file_extension": ".py",
   "mimetype": "text/x-python",
   "name": "python",
   "nbconvert_exporter": "python",
   "pygments_lexer": "ipython3",
   "version": "3.12.5"
  }
 },
 "nbformat": 4,
 "nbformat_minor": 5
}
